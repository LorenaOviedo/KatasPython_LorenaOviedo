{
 "cells": [
  {
   "cell_type": "markdown",
   "metadata": {},
   "source": [
    "## Módulo 3: usa lógica booleana"
   ]
  },
  {
   "cell_type": "markdown",
   "metadata": {},
   "source": [
    "## Ejercicio 2: Uso de operadores and y or"
   ]
  },
  {
   "cell_type": "code",
   "execution_count": 18,
   "metadata": {},
   "outputs": [
    {
     "name": "stdout",
     "output_type": "stream",
     "text": [
      "Advertencia: un asteroide representa una amenaza para la tierra.\n"
     ]
    }
   ],
   "source": [
    "velAsteroide = 25\n",
    "tamAsteroide = 25\n",
    "\n",
    "if tamAsteroide == 25 and velAsteroide == 25:\n",
    "    print(\"Advertencia: un asteroide representa una amenaza para la tierra.\")\n",
    "elif velAsteroide >= 20:\n",
    "    print(\"Un asteroide acaba de entrar a la admosfera, vean todos al cielo.\")\n",
    "elif tamAsteroide < 25:\n",
    "    print(\"Parece que hoy no hay asteroides en el cielo.\")\n",
    "else:\n",
    "    print(\"Parece que hoy no hay asteroides en el cielo.\")"
   ]
  },
  {
   "cell_type": "markdown",
   "metadata": {},
   "source": [
    "## Ejercicio 1: Escribir declaraciones if, else y elif"
   ]
  },
  {
   "cell_type": "code",
   "execution_count": 4,
   "metadata": {},
   "outputs": [
    {
     "name": "stdout",
     "output_type": "stream",
     "text": [
      "Parece que hoy no hay asteroides en el cielo.\n"
     ]
    }
   ],
   "source": [
    "#Asteroide que viaja a 19 km/s\n",
    "\n",
    "velAsteroide2 = 19\n",
    "if velAsteroide2 == 20:\n",
    "    print(\"Un asteroide acaba de entrar a la admosfera, vean todos al cielo.\")\n",
    "elif velAsteroide2 > 20:\n",
    "    print(\"Un asteroide acaba de entrar a la admosfera, vean todos al cielo.\")\n",
    "else:\n",
    "    print(\"Parece que hoy no hay asteroides en el cielo.\")"
   ]
  },
  {
   "cell_type": "code",
   "execution_count": 5,
   "metadata": {},
   "outputs": [
    {
     "name": "stdout",
     "output_type": "stream",
     "text": [
      "Advertencia: El asteroide tiene una velocidad mayor de 25 km/s.\n"
     ]
    }
   ],
   "source": [
    "# Asteroide que viaja a 49 km/s\n",
    "\n",
    "velAsteroide = 49\n",
    "if velAsteroide > 25:\n",
    "    print(\"Advertencia: El asteroide tiene una velocidad mayor de 25 km/s.\")"
   ]
  }
 ],
 "metadata": {
  "interpreter": {
   "hash": "4a6d26475077de9d2afb26f3b1025b18a672038366f13d9a986af3dd2e3c2b03"
  },
  "kernelspec": {
   "display_name": "Python 3.9.10 64-bit",
   "language": "python",
   "name": "python3"
  },
  "language_info": {
   "codemirror_mode": {
    "name": "ipython",
    "version": 3
   },
   "file_extension": ".py",
   "mimetype": "text/x-python",
   "name": "python",
   "nbconvert_exporter": "python",
   "pygments_lexer": "ipython3",
   "version": "3.9.10"
  },
  "orig_nbformat": 4
 },
 "nbformat": 4,
 "nbformat_minor": 2
}
